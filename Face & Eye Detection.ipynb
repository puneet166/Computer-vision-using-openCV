{
 "cells": [
  {
   "cell_type": "markdown",
   "metadata": {},
   "source": [
    "## Face & Eye Detection using HAAR Cascade Classifiers"
   ]
  },
  {
   "cell_type": "code",
   "execution_count": 13,
   "metadata": {},
   "outputs": [],
   "source": [
    "import numpy as np\n",
    "import cv2\n",
    "\n",
    "# We point OpenCV's CascadeClassifier function to where our \n",
    "# classifier (XML file format) is stored\n",
    "# here import xml face features files.\n",
    "face_classifier = cv2.CascadeClassifier('Haarcascades/haarcascade_frontalface_default.xml') # its xml file help us to detect face. all feature regarding face store in this xml file.\n",
    "\n",
    "# Load our image then convert it to grayscale\n",
    "image = cv2.imread('image_examples/Modi.jpg')# load an image from a path image_examples/Modi.jpg using cv2(computer vision)and store in image variable\n",
    "image.shape() # it will show image shape of the image  into matrix form of 3 channel which is RBG image.\n",
    "gray = cv2.cvtColor(image, cv2.COLOR_BGR2GRAY) # here we are converting this 3 channel RBG image into single channel which is grey.\n",
    "# - why we convert it into grey chaneel.\n",
    "# becoz we knew when we process image with RBG channel it will take lot of time for processing.so fast processing we convert into 1 channel grey.\n",
    "\n",
    "# Our classifier returns the ROI of the detected face as a tuple\n",
    "# It stores the top left coordinate and the bottom right coordiantes\n",
    "faces = face_classifier.detectMultiScale(gray, 1.3, 5) # detectMultiScale is the method which retuen 4 values from a images.that 4 values represent where the face in that particular images.\n",
    "# first aruguent we pass the image. where we want to identity the face.\n",
    "# 2nd and 3rd dont know.\n",
    "# face_classifier its a object that feature of that face detection store in this object.\n",
    "# if face not detected in that particular images that time this face_classifier retturn empty tuple.\n",
    "# if face detected it return 4 values first is x cordinate  y cordinate and height and width of faces.\n",
    "\n",
    "# When no faces detected, face_classifier returns and empty tuple\n",
    "\n",
    "if faces is ():\n",
    "    print(\"No faces found\")\n",
    "\n",
    "# We iterate through our faces array and draw a rectangle\n",
    "# over each face in faces\n",
    "for (x,y,w,h) in faces: # this loop fetch x cordinate y cordinate width and height of that face variable.\n",
    "    cv2.rectangle(image, (x,y), (x+w,y+h), (127,0,255), 2) # here draw a rectangle on that area of the image. where face detect. using x,y cordinate and x cordinate + width and y cordinate + height\n",
    "    cv2.imshow('Face Detection', image) # here show the face detection on that image # Face Detection is the label of that image\n",
    "    cv2.waitKey(0) # here its waitkey images will be hold and shoow untill and unless user doesnot press any keys.\n",
    "    \n",
    "cv2.destroyAllWindows() # after done all works here free and destroy the obeject.\n",
    "# its becoz avoid the hanging problems and lacling."
   ]
  },
  {
   "cell_type": "markdown",
   "metadata": {},
   "source": [
    "### Let's combine face and eye detection "
   ]
  },
  {
   "cell_type": "markdown",
   "metadata": {},
   "source": [
    "#### here we combine both face detection and face detection we will detect the eyes from the face"
   ]
  },
  {
   "cell_type": "code",
   "execution_count": 18,
   "metadata": {},
   "outputs": [],
   "source": [
    "# 1. here first we will detect the face from image and from face will detect the eyes.\n",
    "\n",
    "import numpy as np\n",
    "import cv2\n",
    " \n",
    "face_classifier = cv2.CascadeClassifier('Haarcascades/haarcascade_frontalface_default.xml') # same like previous\n",
    "eye_classifier = cv2.CascadeClassifier('Haarcascades/haarcascade_eye.xml') # its xml file contain the feature of eyes.\n",
    " \n",
    "img = cv2.imread('image_examples/Modi.jpg') # read file and image\n",
    "gray = cv2.cvtColor(img, cv2.COLOR_BGR2GRAY) # convert into grey from RBG channel.\n",
    "\n",
    "faces = face_classifier.detectMultiScale(gray, 1.3, 5) # its same as previous\n",
    "\n",
    "# When no faces detected, face_classifier returns and empty tuple\n",
    "if faces is ():\n",
    "    print(\"No Face Found\")\n",
    "\n",
    "for (x,y,w,h) in faces:\n",
    "    cv2.rectangle(img,(x,y),(x+w,y+h),(127,0,255),2) # here same create rectangle (127,0,255) this no mean , its color no which color u want to draw rectangle lines and box and 2 is how think you draw rectangle line. \n",
    "    cv2.imshow(img)#same as previous\n",
    "    cv2.waitKey(0)# same as previous\n",
    "     \n",
    "    \n",
    "    roi_color = img[y:y+h, x:x+w]# this line create another images of only face.its subset image of orginal images, why we retrevie image from orginal image becoz first we retrive face from orginal image then\n",
    "    # after we are retriving  images eyes from subset(face image).\n",
    "    roi_gray = gray[y:y+h, x:x+w] # its convert into grey channel from 3 RGB channel.\n",
    "    eyes = eye_classifier.detectMultiScale(roi_gray) # its for eyes detction. here we can use RBG channel image instead of gray 1 channel.\n",
    "    for (ex,ey,ew,eh) in eyes: # same as previous.\n",
    "        cv2.rectangle(roi_color,(ex,ey),(ex+ew,ey+eh),(255,255,0),2) # same as previous.\n",
    "        cv2.imshow(img) # same as previous\n",
    "        cv2.waitKey(0) # same as previous.\n",
    "    \n",
    "cv2.destroyAllWindows()# its same as previous"
   ]
  },
  {
   "cell_type": "markdown",
   "metadata": {},
   "source": [
    "### Let's make a live face & eye detection, keeping the face inview at all times"
   ]
  },
  {
   "cell_type": "code",
   "execution_count": 11,
   "metadata": {},
   "outputs": [],
   "source": [
    "import cv2\n",
    "import numpy as np\n",
    "# we knew how use these two import file in google colab.\n",
    "\n",
    "face_classifier = cv2.CascadeClassifier('Haarcascades/haarcascade_frontalface_default.xml')\n",
    "eye_classifier = cv2.CascadeClassifier('Haarcascades/haarcascade_eye.xml')\n",
    "# its all same in function\n",
    "def face_detector(img, size=0.5):\n",
    "    # Convert image to grayscale\n",
    "    gray = cv2.cvtColor(img,cv2.COLOR_BGR2GRAY)\n",
    "    faces = face_classifier.detectMultiScale(gray, 1.3, 5)\n",
    "    if faces is ():\n",
    "        return img\n",
    "    \n",
    "    for (x,y,w,h) in faces:\n",
    "        x = x - 50\n",
    "        w = w + 50\n",
    "        y = y - 50\n",
    "        h = h + 50\n",
    "        cv2.rectangle(img,(x,y),(x+w,y+h),(255,0,0),2)\n",
    "        roi_gray = gray[y:y+h, x:x+w]\n",
    "        roi_color = img[y:y+h, x:x+w]\n",
    "        eyes = eye_classifier.detectMultiScale(roi_gray)\n",
    "        \n",
    "        for (ex,ey,ew,eh) in eyes:\n",
    "            cv2.rectangle(roi_color,(ex,ey),(ex+ew,ey+eh),(0,0,255),2) \n",
    "            \n",
    "    roi_color = cv2.flip(roi_color,1)\n",
    "    return roi_color\n",
    "\n",
    "cap = cv2.VideoCapture(0) # its open inbuild camera.\n",
    "\n",
    "while True: # infinte loop\n",
    "\n",
    "    ret, frame = cap.read() # read frames from live videos.\n",
    "    # here working on each and every frames.\n",
    "    cv2.imshow('Our Face Extractor', face_detector(frame))\n",
    "    # we knew how use this statement in google colab.\n",
    "    if cv2.waitKey(1) == 13: #13 is the Enter Key\n",
    "        break\n",
    "# here realsed all objects.        \n",
    "cap.release()\n",
    "cv2.destroyAllWindows()      "
   ]
  },
  {
   "cell_type": "markdown",
   "metadata": {
    "collapsed": true
   },
   "source": [
    "### Tuning Cascade Classifiers\n",
    "\n",
    "*ourClassifier*.**detectMultiScale**(input image, **Scale Factor** , **Min Neighbors**)\n",
    "\n",
    "- **Scale Factor**\n",
    "Specifies how much we reduce the image size each time we scale. E.g. in face detection we typically use 1.3. This means we reduce the image by 30% each time it’s scaled. Smaller values, like 1.05 will take longer to compute, but will increase the rate of detection.\n",
    "\n",
    "\n",
    "\n",
    "- **Min Neighbors**\n",
    "Specifies the number of neighbors each potential window should have in order to consider it a positive detection. Typically set between 3-6. \n",
    "It acts as sensitivity setting, low values will sometimes detect multiples faces over a single face. High values will ensure less false positives, but you may miss some faces.  \n"
   ]
  },
  {
   "cell_type": "code",
   "execution_count": null,
   "metadata": {
    "collapsed": true
   },
   "outputs": [],
   "source": [
    "# like this use in google colab .\n",
    "face_classifier = cv2.CascadeClassifier('drive/My Drive/open cv/open/Haarcascades/haarcascade_frontalface_default.xml') # its xml file help us to detect face. all feature regarding face store in this xml file.\n",
    "eye_classifier = cv2.CascadeClassifier('drive/My Drive/open cv/open/Haarcascades/haarcascade_eye.xml') # its xml file contain the feature of eyes.\n",
    "\n",
    "# Load our image then convert it to grayscale\n",
    "image = cv2.imread('drive/My Drive/open cv/open/image/Trump.jpg')# load an image from a path image_examples/Modi.jpg using cv2(computer vision)and store in image variable\n"
   ]
  },
  {
   "cell_type": "code",
   "execution_count": null,
   "metadata": {
    "collapsed": true
   },
   "outputs": [],
   "source": []
  },
  {
   "cell_type": "code",
   "execution_count": null,
   "metadata": {
    "collapsed": true
   },
   "outputs": [],
   "source": []
  }
 ],
 "metadata": {
  "kernelspec": {
   "display_name": "Python 3",
   "language": "python",
   "name": "python3"
  },
  "language_info": {
   "codemirror_mode": {
    "name": "ipython",
    "version": 3
   },
   "file_extension": ".py",
   "mimetype": "text/x-python",
   "name": "python",
   "nbconvert_exporter": "python",
   "pygments_lexer": "ipython3",
   "version": "3.7.3"
  }
 },
 "nbformat": 4,
 "nbformat_minor": 1
}
