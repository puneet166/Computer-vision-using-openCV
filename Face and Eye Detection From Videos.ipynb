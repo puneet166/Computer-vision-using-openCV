{
 "cells": [
  {
   "cell_type": "markdown",
   "metadata": {},
   "source": [
    "## Face and Eye Detection  from videos\n"
   ]
  },
  {
   "cell_type": "code",
   "execution_count": 3,
   "metadata": {},
   "outputs": [],
   "source": [
    "# Face Recognition\n",
    "\n",
    "# Importing the libraries\n",
    "import cv2\n",
    "\n",
    "# Loading the cascades\n",
    "face_cascade = cv2.CascadeClassifier('Haarcascades/haarcascade_frontalface_default.xml')\n",
    "# face_cascade = cv2.CascadeClassifier(r'./drive/My Drive/open cv/open/haarcascade_frontalface_default.xml') is in google colab\n",
    "\n",
    "eye_cascade = cv2.CascadeClassifier('Haarcascades/haarcascade_eye.xml')\n",
    "# eye_cascade = cv2.CascadeClassifier(r'./drive/My Drive/open cv/open/haarcascade_eye.xml') is in google colab\n",
    "\n",
    "# here function functionality same as previous.\n",
    "# Defining a function that will do the detections\n",
    "def detect(gray, frame): \n",
    "    faces = face_cascade.detectMultiScale(gray, 1.3, 5)\n",
    "    for (x, y, w, h) in faces:\n",
    "        cv2.rectangle(frame, (x, y), (x+w, y+h), (255, 0, 0), 2)\n",
    "        roi_gray = gray[y:y+h, x:x+w]\n",
    "        roi_color = frame[y:y+h, x:x+w]\n",
    "        eyes = eye_cascade.detectMultiScale(roi_gray, 1.1, 3)\n",
    "        for (ex, ey, ew, eh) in eyes:\n",
    "            cv2.rectangle(roi_color, (ex, ey), (ex+ew, ey+eh), (0, 255, 0), 2)\n",
    "    return frame\n",
    "\n",
    "# Doing some Face Recognition with the webcam\n",
    "video_capture = cv2.VideoCapture(0) #VideoCapture this function use to open inbuild camera. if you want to use another object  for video use path . \n",
    "while True: # inifinte loop\n",
    "    _, frame = video_capture.read()# read frames from videos\n",
    "    gray = cv2.cvtColor(frame, cv2.COLOR_BGR2GRAY) # convert into grey\n",
    "    canvas = detect(gray, frame)\n",
    "    cv2.imshow('face and eyes',canvas) #its in conda\n",
    "    #cv2_imshow(canvas) # its in google colab\n",
    "    if cv2.waitKey(1) & 0xFF == ord('q'): # its condition for exit.\n",
    "        break\n",
    "video_capture.release()\n",
    "cv2.destroyAllWindows()"
   ]
  },
  {
   "cell_type": "code",
   "execution_count": null,
   "metadata": {},
   "outputs": [],
   "source": []
  }
 ],
 "metadata": {
  "kernelspec": {
   "display_name": "Python 3",
   "language": "python",
   "name": "python3"
  },
  "language_info": {
   "codemirror_mode": {
    "name": "ipython",
    "version": 3
   },
   "file_extension": ".py",
   "mimetype": "text/x-python",
   "name": "python",
   "nbconvert_exporter": "python",
   "pygments_lexer": "ipython3",
   "version": "3.7.3"
  }
 },
 "nbformat": 4,
 "nbformat_minor": 2
}
